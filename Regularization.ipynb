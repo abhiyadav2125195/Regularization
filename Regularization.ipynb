{
 "cells": [
  {
   "cell_type": "markdown",
   "id": "429d1051-65f2-4c5d-ad4e-daf913b2d1b0",
   "metadata": {},
   "source": [
    "# Q1 What is regularization in the context of deep learning Why is it important"
   ]
  },
  {
   "cell_type": "markdown",
   "id": "2c830e48-7910-489f-98eb-6594f86a04ac",
   "metadata": {},
   "source": [
    "\n",
    "Regularization in Deep Learning:\n",
    "\n",
    "Regularization in the context of deep learning is a set of techniques used to prevent a model from overfitting the training data. Overfitting occurs when a model learns not only the underlying patterns in the data but also the noise and outliers, which can lead to poor generalization on new, unseen data.\n",
    "\n",
    "Importance of Regularization:\n",
    "\n",
    "Regularization is essential because deep learning models, especially those with a large number of parameters, have a high capacity to memorize the training data. Without regularization, they might memorize the training set, including its noise, leading to poor performance on new data. Regularization techniques help to control the complexity of the model, ensuring that it generalizes well to unseen examples."
   ]
  },
  {
   "cell_type": "markdown",
   "id": "6c47e7dc-4ded-4356-bf5d-76dbd9db6efa",
   "metadata": {},
   "source": [
    "# Q2 Explain the bias-variance tradeoff and how regularization helps in addressing this tradeoff"
   ]
  },
  {
   "cell_type": "markdown",
   "id": "5dacaccd-d6d9-4062-8a22-4d4f74a6eef8",
   "metadata": {},
   "source": [
    "Bias-Variance Tradeoff and Regularization:\n",
    "\n",
    "The bias-variance tradeoff is a fundamental concept in machine learning. It refers to the tradeoff between bias (underfitting) and variance (overfitting). A model with high bias is too simplistic and may not capture the underlying patterns in the data, while a model with high variance is too complex and fits the noise in the data.\n",
    "\n",
    "Regularization helps in addressing the bias-variance tradeoff by penalizing complex models. It discourages overly complex models by adding a penalty term to the loss function, which is a function of the model parameters. This penalty term prevents the model from assigning too much importance to any particular feature, thereby reducing variance."
   ]
  },
  {
   "cell_type": "markdown",
   "id": "023dc88d-b270-4362-aa8e-39454256aa7b",
   "metadata": {},
   "source": [
    "# Q3 Describe the concept of l1 and l2 regularization. How do they differ in terms of penalty calculation and their effects on the modelG"
   ]
  },
  {
   "cell_type": "markdown",
   "id": "6f73764b-72d4-41d7-b7dc-a2ef53176e11",
   "metadata": {},
   "source": [
    "L1 and L2 Regularization:\n",
    "\n",
    "L1 Regularization (Lasso): Adds the sum of absolute values of the coefficients as a penalty term to the loss function. It encourages sparsity in the model by pushing some coefficients to exactly zero.\n",
    "\n",
    "\n",
    "L2 Regularization (Ridge): Adds the sum of squared values of the coefficients as a penalty term to the loss function. It tends to shrink the coefficients towards zero but does not make them exactly zero.\n",
    "\n",
    "λ is the regularization strength hyperparameter."
   ]
  },
  {
   "cell_type": "markdown",
   "id": "e52366a1-316f-486b-9f4e-6d8cd538341d",
   "metadata": {},
   "source": [
    "# Q4 Discuss the role of regularization in preventing overfitting and improving the generalization of deep learning models."
   ]
  },
  {
   "cell_type": "markdown",
   "id": "ee816499-decf-41fd-923b-5b5224598062",
   "metadata": {},
   "source": [
    "Regularization helps prevent overfitting by penalizing overly complex models during training. It effectively adds a constraint to the optimization problem, discouraging the model from fitting the noise in the training data. By controlling the model complexity, regularization improves the generalization performance of deep learning models on unseen data.\n",
    "\n",
    "In summary, regularization is a crucial tool in deep learning to strike a balance between fitting the training data well and ensuring good generalization to new, unseen data. It is a key element in addressing the bias-variance tradeoff and preventing overfitting in complex models."
   ]
  },
  {
   "cell_type": "markdown",
   "id": "27da9d3e-3de1-4767-acd2-9e5168f8e7c0",
   "metadata": {},
   "source": [
    "# Q5 Explain Dropout regularization and how it works to reduce overfitting. Discuss the impact of Dropout on model training and inference"
   ]
  },
  {
   "cell_type": "markdown",
   "id": "0719f089-d715-4868-ac19-0f7190aca8bf",
   "metadata": {},
   "source": [
    "Dropout Regularization:\n",
    "\n",
    "Dropout is a regularization technique used to reduce overfitting in neural networks. The idea behind dropout is to randomly deactivate (drop out) a fraction of neurons during each training iteration. This means that during training, a random set of neurons is ignored, preventing them from contributing to the forward pass and backward pass computations.\n",
    "\n",
    "How Dropout Works:\n",
    "\n",
    "Training Phase:\n",
    "\n",
    "During each training iteration, a random subset of neurons is dropped out. The dropout rate is a hyperparameter that determines the fraction of neurons to be dropped out, typically ranging from 0.2 to 0.5.\n",
    "The network is trained with this random dropout, and the weights are updated accordingly.\n",
    "Inference Phase:\n",
    "\n",
    "During inference or testing, all neurons are active, but their outputs are scaled by the dropout rate. This scaling accounts for the fact that more neurons were active during training than during testing.\n",
    "Impact of Dropout on Model Training and Inference:\n",
    "\n",
    "Training: Dropout acts as a form of ensemble learning by training different subnetworks in each iteration. This helps prevent the network from relying too much on specific neurons, promoting robustness and reducing overfitting.\n",
    "\n",
    "Inference: Since dropout is only applied during training, it is not used during inference. However, the learned weights are scaled to account for the dropout during training, ensuring a consistent behavior between training and inference."
   ]
  },
  {
   "cell_type": "markdown",
   "id": "de255369-c034-4f29-ae4e-15c5e16196e1",
   "metadata": {},
   "source": [
    "# Q6 Describe the concept of Early ztopping as a form of regularization. How does it help prevent overfitting during the training process\n"
   ]
  },
  {
   "cell_type": "markdown",
   "id": "5afed798-9810-4e2d-b8b6-c2a7e24d43c2",
   "metadata": {},
   "source": [
    "Early Stopping:\n",
    "\n",
    "Early stopping is a regularization technique where the training process is halted when the performance on a validation dataset stops improving. This is done by monitoring a specified metric (e.g., validation loss or accuracy) during training. If the performance on the validation set starts to degrade after an initial improvement, training is stopped to prevent overfitting"
   ]
  },
  {
   "cell_type": "markdown",
   "id": "f986dbf8-91a9-48ba-b832-37cbc787c23d",
   "metadata": {},
   "source": [
    "# Q7 Explain the concept of Batch Normalization and its role as a form of regularization. How does Batch Normalization help in preventing overfitting"
   ]
  },
  {
   "cell_type": "markdown",
   "id": "71681d6e-6ce5-4be3-ac05-42b36b2cd97a",
   "metadata": {},
   "source": [
    "Batch Normalization:\n",
    "\n",
    "Batch Normalization (BatchNorm) is a regularization technique that normalizes the input of each layer in a mini-batch. It helps in preventing overfitting and accelerates training by reducing internal covariate shift.\n",
    "\n",
    "How Batch Normalization Works:\n",
    "\n",
    "Normalization: BatchNorm normalizes the input of each layer by subtracting the mini-batch mean and dividing by the mini-batch standard deviation.\n",
    "\n",
    "Scaling and Shifting: The normalized values are then scaled by learnable parameters (gamma) and shifted by learnable parameters (beta).\n",
    "\n",
    "Training and Inference: During training, BatchNorm uses the mini-batch statistics for normalization. During inference, running averages of mean and standard deviation are used, maintaining consistency between training and inference.\n",
    "\n",
    "Impact of Batch Normalization on Preventing Overfitting:\n",
    "\n",
    "Stabilizes Training: BatchNorm reduces internal covariate shift, making the training process more stable. This can help prevent overfitting, especially in deeper networks.\n",
    "\n",
    "Regularization Effect: BatchNorm introduces a slight regularization effect due to the normalization of each mini-batch. This can have a similar effect to dropout in preventing overfitting."
   ]
  },
  {
   "cell_type": "code",
   "execution_count": 38,
   "id": "04ec89ad-9132-45e3-87ca-c95a1bb66137",
   "metadata": {},
   "outputs": [
    {
     "name": "stdout",
     "output_type": "stream",
     "text": [
      "Requirement already satisfied: tensorflow in /opt/conda/lib/python3.10/site-packages (2.15.0)\n",
      "Requirement already satisfied: termcolor>=1.1.0 in /opt/conda/lib/python3.10/site-packages (from tensorflow) (2.3.0)\n",
      "Requirement already satisfied: wrapt<1.15,>=1.11.0 in /opt/conda/lib/python3.10/site-packages (from tensorflow) (1.14.1)\n",
      "Requirement already satisfied: tensorflow-estimator<2.16,>=2.15.0 in /opt/conda/lib/python3.10/site-packages (from tensorflow) (2.15.0)\n",
      "Requirement already satisfied: flatbuffers>=23.5.26 in /opt/conda/lib/python3.10/site-packages (from tensorflow) (23.5.26)\n",
      "Requirement already satisfied: opt-einsum>=2.3.2 in /opt/conda/lib/python3.10/site-packages (from tensorflow) (3.3.0)\n",
      "Requirement already satisfied: h5py>=2.9.0 in /opt/conda/lib/python3.10/site-packages (from tensorflow) (3.7.0)\n",
      "Requirement already satisfied: keras<2.16,>=2.15.0 in /opt/conda/lib/python3.10/site-packages (from tensorflow) (2.15.0)\n",
      "Requirement already satisfied: absl-py>=1.0.0 in /opt/conda/lib/python3.10/site-packages (from tensorflow) (2.0.0)\n",
      "Requirement already satisfied: tensorflow-io-gcs-filesystem>=0.23.1 in /opt/conda/lib/python3.10/site-packages (from tensorflow) (0.34.0)\n",
      "Requirement already satisfied: gast!=0.5.0,!=0.5.1,!=0.5.2,>=0.2.1 in /opt/conda/lib/python3.10/site-packages (from tensorflow) (0.5.4)\n",
      "Requirement already satisfied: setuptools in /opt/conda/lib/python3.10/site-packages (from tensorflow) (65.5.1)\n",
      "Requirement already satisfied: six>=1.12.0 in /opt/conda/lib/python3.10/site-packages (from tensorflow) (1.16.0)\n",
      "Requirement already satisfied: libclang>=13.0.0 in /opt/conda/lib/python3.10/site-packages (from tensorflow) (16.0.6)\n",
      "Requirement already satisfied: packaging in /opt/conda/lib/python3.10/site-packages (from tensorflow) (22.0)\n",
      "Requirement already satisfied: ml-dtypes~=0.2.0 in /opt/conda/lib/python3.10/site-packages (from tensorflow) (0.2.0)\n",
      "Requirement already satisfied: grpcio<2.0,>=1.24.3 in /opt/conda/lib/python3.10/site-packages (from tensorflow) (1.59.3)\n",
      "Requirement already satisfied: tensorboard<2.16,>=2.15 in /opt/conda/lib/python3.10/site-packages (from tensorflow) (2.15.1)\n",
      "Requirement already satisfied: google-pasta>=0.1.1 in /opt/conda/lib/python3.10/site-packages (from tensorflow) (0.2.0)\n",
      "Requirement already satisfied: typing-extensions>=3.6.6 in /opt/conda/lib/python3.10/site-packages (from tensorflow) (4.4.0)\n",
      "Requirement already satisfied: astunparse>=1.6.0 in /opt/conda/lib/python3.10/site-packages (from tensorflow) (1.6.3)\n",
      "Requirement already satisfied: protobuf!=4.21.0,!=4.21.1,!=4.21.2,!=4.21.3,!=4.21.4,!=4.21.5,<5.0.0dev,>=3.20.3 in /opt/conda/lib/python3.10/site-packages (from tensorflow) (4.21.11)\n",
      "Requirement already satisfied: numpy<2.0.0,>=1.23.5 in /opt/conda/lib/python3.10/site-packages (from tensorflow) (1.23.5)\n",
      "Requirement already satisfied: wheel<1.0,>=0.23.0 in /opt/conda/lib/python3.10/site-packages (from astunparse>=1.6.0->tensorflow) (0.38.4)\n",
      "Requirement already satisfied: google-auth-oauthlib<2,>=0.5 in /opt/conda/lib/python3.10/site-packages (from tensorboard<2.16,>=2.15->tensorflow) (1.1.0)\n",
      "Requirement already satisfied: werkzeug>=1.0.1 in /opt/conda/lib/python3.10/site-packages (from tensorboard<2.16,>=2.15->tensorflow) (3.0.1)\n",
      "Requirement already satisfied: markdown>=2.6.8 in /opt/conda/lib/python3.10/site-packages (from tensorboard<2.16,>=2.15->tensorflow) (3.5.1)\n",
      "Requirement already satisfied: requests<3,>=2.21.0 in /opt/conda/lib/python3.10/site-packages (from tensorboard<2.16,>=2.15->tensorflow) (2.28.1)\n",
      "Requirement already satisfied: tensorboard-data-server<0.8.0,>=0.7.0 in /opt/conda/lib/python3.10/site-packages (from tensorboard<2.16,>=2.15->tensorflow) (0.7.2)\n",
      "Requirement already satisfied: google-auth<3,>=1.6.3 in /opt/conda/lib/python3.10/site-packages (from tensorboard<2.16,>=2.15->tensorflow) (2.23.4)\n",
      "Requirement already satisfied: pyasn1-modules>=0.2.1 in /opt/conda/lib/python3.10/site-packages (from google-auth<3,>=1.6.3->tensorboard<2.16,>=2.15->tensorflow) (0.3.0)\n",
      "Requirement already satisfied: rsa<5,>=3.1.4 in /opt/conda/lib/python3.10/site-packages (from google-auth<3,>=1.6.3->tensorboard<2.16,>=2.15->tensorflow) (4.9)\n",
      "Requirement already satisfied: cachetools<6.0,>=2.0.0 in /opt/conda/lib/python3.10/site-packages (from google-auth<3,>=1.6.3->tensorboard<2.16,>=2.15->tensorflow) (5.3.2)\n",
      "Requirement already satisfied: requests-oauthlib>=0.7.0 in /opt/conda/lib/python3.10/site-packages (from google-auth-oauthlib<2,>=0.5->tensorboard<2.16,>=2.15->tensorflow) (1.3.1)\n",
      "Requirement already satisfied: idna<4,>=2.5 in /opt/conda/lib/python3.10/site-packages (from requests<3,>=2.21.0->tensorboard<2.16,>=2.15->tensorflow) (3.4)\n",
      "Requirement already satisfied: charset-normalizer<3,>=2 in /opt/conda/lib/python3.10/site-packages (from requests<3,>=2.21.0->tensorboard<2.16,>=2.15->tensorflow) (2.1.1)\n",
      "Requirement already satisfied: certifi>=2017.4.17 in /opt/conda/lib/python3.10/site-packages (from requests<3,>=2.21.0->tensorboard<2.16,>=2.15->tensorflow) (2022.12.7)\n",
      "Requirement already satisfied: urllib3<1.27,>=1.21.1 in /opt/conda/lib/python3.10/site-packages (from requests<3,>=2.21.0->tensorboard<2.16,>=2.15->tensorflow) (1.26.13)\n",
      "Requirement already satisfied: MarkupSafe>=2.1.1 in /opt/conda/lib/python3.10/site-packages (from werkzeug>=1.0.1->tensorboard<2.16,>=2.15->tensorflow) (2.1.1)\n",
      "Requirement already satisfied: pyasn1<0.6.0,>=0.4.6 in /opt/conda/lib/python3.10/site-packages (from pyasn1-modules>=0.2.1->google-auth<3,>=1.6.3->tensorboard<2.16,>=2.15->tensorflow) (0.5.1)\n",
      "Requirement already satisfied: oauthlib>=3.0.0 in /opt/conda/lib/python3.10/site-packages (from requests-oauthlib>=0.7.0->google-auth-oauthlib<2,>=0.5->tensorboard<2.16,>=2.15->tensorflow) (3.2.2)\n",
      "Note: you may need to restart the kernel to use updated packages.\n"
     ]
    }
   ],
   "source": [
    "pip install tensorflow"
   ]
  },
  {
   "cell_type": "code",
   "execution_count": 39,
   "id": "81660c88-3436-41cb-8629-f1da934577cb",
   "metadata": {},
   "outputs": [],
   "source": [
    "import matplotlib.pyplot as plt\n",
    "from sklearn.datasets import make_moons\n",
    "import seaborn as sns\n",
    "import tensorflow\n",
    "from tensorflow.keras.models import Sequential\n",
    "from tensorflow.keras.layers import Dense,Dropout\n",
    "from sklearn.model_selection import train_test_split\n"
   ]
  },
  {
   "cell_type": "code",
   "execution_count": 40,
   "id": "251971e6-1b76-4ae6-9a4c-c089f43d2c85",
   "metadata": {},
   "outputs": [],
   "source": [
    "data,labels = make_moons(200,noise=0.2,random_state=2)"
   ]
  },
  {
   "cell_type": "code",
   "execution_count": 41,
   "id": "38f49bb0-baa4-4335-afb0-1cee54927a44",
   "metadata": {},
   "outputs": [],
   "source": [
    "x_train_full, x_test, y_train_full, y_test = train_test_split(data, labels, test_size=0.2, random_state=42)\n",
    "x_valid,x_train = train_test_split(x_test_full,test_size=0.4,random_state=42)\n",
    "y_valid,y_train = train_test_split(y_test_full,test_size=0.4,random_state=42)"
   ]
  },
  {
   "cell_type": "code",
   "execution_count": 42,
   "id": "715b06fc-2a9c-4765-b98c-70dfff68197f",
   "metadata": {},
   "outputs": [],
   "source": [
    "from sklearn.preprocessing import StandardScaler"
   ]
  },
  {
   "cell_type": "code",
   "execution_count": 43,
   "id": "e5d65efc-eba2-4a65-bd43-bc5dfd86f793",
   "metadata": {},
   "outputs": [],
   "source": [
    "scaler = StandardScaler()\n",
    "\n",
    "x_scaler = scaler.fit_transform(x_train)\n",
    "x_test = scaler.transform(x_test)"
   ]
  },
  {
   "cell_type": "code",
   "execution_count": 44,
   "id": "c13ad9d7-e412-4f8e-afa9-8d2c0d8937dd",
   "metadata": {},
   "outputs": [],
   "source": [
    "model = Sequential()\n",
    "model.add(Dense(128,activation=\"relu\",input_dim=2))\n",
    "model.add(Dense(64,activation=\"relu\"))\n",
    "model.add(Dense(1,activation=\"sigmoid\"))"
   ]
  },
  {
   "cell_type": "code",
   "execution_count": 45,
   "id": "f12114dc-6b44-431d-bc0c-98dd30235a6e",
   "metadata": {},
   "outputs": [],
   "source": [
    "model.compile(loss=\"binary_crossentropy\", optimizer=\"adam\", metrics=[\"accuracy\"])\n"
   ]
  },
  {
   "cell_type": "code",
   "execution_count": 46,
   "id": "e11221d2-e701-41c6-8e8f-32ddad82af7b",
   "metadata": {},
   "outputs": [
    {
     "name": "stdout",
     "output_type": "stream",
     "text": [
      "Epoch 1/50\n",
      "1/1 [==============================] - 1s 997ms/step - loss: 0.6633 - accuracy: 0.5833 - val_loss: 0.6927 - val_accuracy: 0.2500\n",
      "Epoch 2/50\n",
      "1/1 [==============================] - 0s 43ms/step - loss: 0.6398 - accuracy: 0.8333 - val_loss: 0.6775 - val_accuracy: 0.7500\n",
      "Epoch 3/50\n",
      "1/1 [==============================] - 0s 40ms/step - loss: 0.6177 - accuracy: 0.8333 - val_loss: 0.6628 - val_accuracy: 0.7500\n",
      "Epoch 4/50\n",
      "1/1 [==============================] - 0s 42ms/step - loss: 0.5971 - accuracy: 0.8333 - val_loss: 0.6490 - val_accuracy: 1.0000\n",
      "Epoch 5/50\n",
      "1/1 [==============================] - 0s 41ms/step - loss: 0.5776 - accuracy: 0.8333 - val_loss: 0.6360 - val_accuracy: 1.0000\n",
      "Epoch 6/50\n",
      "1/1 [==============================] - 0s 42ms/step - loss: 0.5596 - accuracy: 0.8333 - val_loss: 0.6233 - val_accuracy: 1.0000\n",
      "Epoch 7/50\n",
      "1/1 [==============================] - 0s 41ms/step - loss: 0.5426 - accuracy: 0.8333 - val_loss: 0.6106 - val_accuracy: 1.0000\n",
      "Epoch 8/50\n",
      "1/1 [==============================] - 0s 41ms/step - loss: 0.5265 - accuracy: 0.8333 - val_loss: 0.5981 - val_accuracy: 1.0000\n",
      "Epoch 9/50\n",
      "1/1 [==============================] - 0s 41ms/step - loss: 0.5114 - accuracy: 0.8333 - val_loss: 0.5858 - val_accuracy: 1.0000\n",
      "Epoch 10/50\n",
      "1/1 [==============================] - 0s 41ms/step - loss: 0.4970 - accuracy: 0.8333 - val_loss: 0.5730 - val_accuracy: 1.0000\n",
      "Epoch 11/50\n",
      "1/1 [==============================] - 0s 40ms/step - loss: 0.4830 - accuracy: 0.8333 - val_loss: 0.5601 - val_accuracy: 1.0000\n",
      "Epoch 12/50\n",
      "1/1 [==============================] - 0s 40ms/step - loss: 0.4696 - accuracy: 0.8333 - val_loss: 0.5472 - val_accuracy: 1.0000\n",
      "Epoch 13/50\n",
      "1/1 [==============================] - 0s 41ms/step - loss: 0.4564 - accuracy: 0.8333 - val_loss: 0.5343 - val_accuracy: 1.0000\n",
      "Epoch 14/50\n",
      "1/1 [==============================] - 0s 41ms/step - loss: 0.4435 - accuracy: 0.9167 - val_loss: 0.5214 - val_accuracy: 1.0000\n",
      "Epoch 15/50\n",
      "1/1 [==============================] - 0s 41ms/step - loss: 0.4308 - accuracy: 1.0000 - val_loss: 0.5085 - val_accuracy: 1.0000\n",
      "Epoch 16/50\n",
      "1/1 [==============================] - 0s 41ms/step - loss: 0.4182 - accuracy: 1.0000 - val_loss: 0.4956 - val_accuracy: 1.0000\n",
      "Epoch 17/50\n",
      "1/1 [==============================] - 0s 41ms/step - loss: 0.4058 - accuracy: 1.0000 - val_loss: 0.4827 - val_accuracy: 1.0000\n",
      "Epoch 18/50\n",
      "1/1 [==============================] - 0s 41ms/step - loss: 0.3936 - accuracy: 1.0000 - val_loss: 0.4700 - val_accuracy: 1.0000\n",
      "Epoch 19/50\n",
      "1/1 [==============================] - 0s 40ms/step - loss: 0.3817 - accuracy: 1.0000 - val_loss: 0.4574 - val_accuracy: 1.0000\n",
      "Epoch 20/50\n",
      "1/1 [==============================] - 0s 41ms/step - loss: 0.3698 - accuracy: 1.0000 - val_loss: 0.4448 - val_accuracy: 1.0000\n",
      "Epoch 21/50\n",
      "1/1 [==============================] - 0s 41ms/step - loss: 0.3580 - accuracy: 1.0000 - val_loss: 0.4320 - val_accuracy: 1.0000\n",
      "Epoch 22/50\n",
      "1/1 [==============================] - 0s 41ms/step - loss: 0.3463 - accuracy: 1.0000 - val_loss: 0.4196 - val_accuracy: 1.0000\n",
      "Epoch 23/50\n",
      "1/1 [==============================] - 0s 41ms/step - loss: 0.3348 - accuracy: 1.0000 - val_loss: 0.4074 - val_accuracy: 1.0000\n",
      "Epoch 24/50\n",
      "1/1 [==============================] - 0s 40ms/step - loss: 0.3234 - accuracy: 1.0000 - val_loss: 0.3953 - val_accuracy: 1.0000\n",
      "Epoch 25/50\n",
      "1/1 [==============================] - 0s 42ms/step - loss: 0.3122 - accuracy: 1.0000 - val_loss: 0.3834 - val_accuracy: 1.0000\n",
      "Epoch 26/50\n",
      "1/1 [==============================] - 0s 61ms/step - loss: 0.3012 - accuracy: 1.0000 - val_loss: 0.3714 - val_accuracy: 1.0000\n",
      "Epoch 27/50\n",
      "1/1 [==============================] - 0s 42ms/step - loss: 0.2905 - accuracy: 1.0000 - val_loss: 0.3594 - val_accuracy: 1.0000\n",
      "Epoch 28/50\n",
      "1/1 [==============================] - 0s 41ms/step - loss: 0.2800 - accuracy: 1.0000 - val_loss: 0.3476 - val_accuracy: 1.0000\n",
      "Epoch 29/50\n",
      "1/1 [==============================] - 0s 41ms/step - loss: 0.2695 - accuracy: 1.0000 - val_loss: 0.3358 - val_accuracy: 1.0000\n",
      "Epoch 30/50\n",
      "1/1 [==============================] - 0s 41ms/step - loss: 0.2592 - accuracy: 1.0000 - val_loss: 0.3242 - val_accuracy: 1.0000\n",
      "Epoch 31/50\n",
      "1/1 [==============================] - 0s 41ms/step - loss: 0.2491 - accuracy: 1.0000 - val_loss: 0.3127 - val_accuracy: 1.0000\n",
      "Epoch 32/50\n",
      "1/1 [==============================] - 0s 40ms/step - loss: 0.2393 - accuracy: 1.0000 - val_loss: 0.3014 - val_accuracy: 1.0000\n",
      "Epoch 33/50\n",
      "1/1 [==============================] - 0s 40ms/step - loss: 0.2298 - accuracy: 1.0000 - val_loss: 0.2906 - val_accuracy: 1.0000\n",
      "Epoch 34/50\n",
      "1/1 [==============================] - 0s 40ms/step - loss: 0.2205 - accuracy: 1.0000 - val_loss: 0.2800 - val_accuracy: 1.0000\n",
      "Epoch 35/50\n",
      "1/1 [==============================] - 0s 41ms/step - loss: 0.2114 - accuracy: 1.0000 - val_loss: 0.2696 - val_accuracy: 1.0000\n",
      "Epoch 36/50\n",
      "1/1 [==============================] - 0s 42ms/step - loss: 0.2025 - accuracy: 1.0000 - val_loss: 0.2595 - val_accuracy: 1.0000\n",
      "Epoch 37/50\n",
      "1/1 [==============================] - 0s 42ms/step - loss: 0.1939 - accuracy: 1.0000 - val_loss: 0.2495 - val_accuracy: 1.0000\n",
      "Epoch 38/50\n",
      "1/1 [==============================] - 0s 42ms/step - loss: 0.1855 - accuracy: 1.0000 - val_loss: 0.2398 - val_accuracy: 1.0000\n",
      "Epoch 39/50\n",
      "1/1 [==============================] - 0s 41ms/step - loss: 0.1774 - accuracy: 1.0000 - val_loss: 0.2304 - val_accuracy: 1.0000\n",
      "Epoch 40/50\n",
      "1/1 [==============================] - 0s 40ms/step - loss: 0.1695 - accuracy: 1.0000 - val_loss: 0.2213 - val_accuracy: 1.0000\n",
      "Epoch 41/50\n",
      "1/1 [==============================] - 0s 41ms/step - loss: 0.1619 - accuracy: 1.0000 - val_loss: 0.2123 - val_accuracy: 1.0000\n",
      "Epoch 42/50\n",
      "1/1 [==============================] - 0s 40ms/step - loss: 0.1546 - accuracy: 1.0000 - val_loss: 0.2036 - val_accuracy: 1.0000\n",
      "Epoch 43/50\n",
      "1/1 [==============================] - 0s 40ms/step - loss: 0.1476 - accuracy: 1.0000 - val_loss: 0.1952 - val_accuracy: 1.0000\n",
      "Epoch 44/50\n",
      "1/1 [==============================] - 0s 41ms/step - loss: 0.1409 - accuracy: 1.0000 - val_loss: 0.1869 - val_accuracy: 1.0000\n",
      "Epoch 45/50\n",
      "1/1 [==============================] - 0s 41ms/step - loss: 0.1345 - accuracy: 1.0000 - val_loss: 0.1790 - val_accuracy: 1.0000\n",
      "Epoch 46/50\n",
      "1/1 [==============================] - 0s 41ms/step - loss: 0.1283 - accuracy: 1.0000 - val_loss: 0.1713 - val_accuracy: 1.0000\n",
      "Epoch 47/50\n",
      "1/1 [==============================] - 0s 42ms/step - loss: 0.1224 - accuracy: 1.0000 - val_loss: 0.1638 - val_accuracy: 1.0000\n",
      "Epoch 48/50\n",
      "1/1 [==============================] - 0s 46ms/step - loss: 0.1169 - accuracy: 1.0000 - val_loss: 0.1566 - val_accuracy: 1.0000\n",
      "Epoch 49/50\n",
      "1/1 [==============================] - 0s 42ms/step - loss: 0.1115 - accuracy: 1.0000 - val_loss: 0.1497 - val_accuracy: 1.0000\n",
      "Epoch 50/50\n",
      "1/1 [==============================] - 0s 43ms/step - loss: 0.1065 - accuracy: 1.0000 - val_loss: 0.1432 - val_accuracy: 1.0000\n"
     ]
    }
   ],
   "source": [
    "history = model.fit(x_scaler,y_train,epochs=50,validation_split=0.2)"
   ]
  },
  {
   "cell_type": "code",
   "execution_count": 47,
   "id": "841deb26-2c85-4b03-93db-2ad1f44f316a",
   "metadata": {},
   "outputs": [],
   "source": [
    "model1 = Sequential()\n",
    "model1.add(Dense(128,activation=\"relu\",input_dim=2))\n",
    "model1.add(Dropout(0.2))\n",
    "model1.add(Dense(64,activation=\"relu\"))\n",
    "model1.add(Dropout(0.2))\n",
    "model1.add(Dense(1,activation=\"sigmoid\"))"
   ]
  },
  {
   "cell_type": "code",
   "execution_count": 48,
   "id": "c453dc51-2730-4172-9335-527beb414812",
   "metadata": {},
   "outputs": [],
   "source": [
    "model1.compile(loss=\"binary_crossentropy\", optimizer=\"adam\", metrics=[\"accuracy\"])\n"
   ]
  },
  {
   "cell_type": "code",
   "execution_count": 49,
   "id": "da0e4ae8-6df8-4577-8a55-31388a02806a",
   "metadata": {},
   "outputs": [
    {
     "name": "stdout",
     "output_type": "stream",
     "text": [
      "Epoch 1/50\n",
      "1/1 [==============================] - 1s 1s/step - loss: 0.7295 - accuracy: 0.3333 - val_loss: 0.6775 - val_accuracy: 0.7500\n",
      "Epoch 2/50\n",
      "1/1 [==============================] - 0s 42ms/step - loss: 0.7372 - accuracy: 0.5000 - val_loss: 0.6662 - val_accuracy: 0.7500\n",
      "Epoch 3/50\n",
      "1/1 [==============================] - 0s 41ms/step - loss: 0.7209 - accuracy: 0.4167 - val_loss: 0.6556 - val_accuracy: 0.7500\n",
      "Epoch 4/50\n",
      "1/1 [==============================] - 0s 41ms/step - loss: 0.6971 - accuracy: 0.5000 - val_loss: 0.6447 - val_accuracy: 1.0000\n",
      "Epoch 5/50\n",
      "1/1 [==============================] - 0s 40ms/step - loss: 0.6707 - accuracy: 0.6667 - val_loss: 0.6340 - val_accuracy: 1.0000\n",
      "Epoch 6/50\n",
      "1/1 [==============================] - 0s 41ms/step - loss: 0.6574 - accuracy: 0.5833 - val_loss: 0.6233 - val_accuracy: 1.0000\n",
      "Epoch 7/50\n",
      "1/1 [==============================] - 0s 40ms/step - loss: 0.6327 - accuracy: 0.8333 - val_loss: 0.6126 - val_accuracy: 1.0000\n",
      "Epoch 8/50\n",
      "1/1 [==============================] - 0s 41ms/step - loss: 0.6109 - accuracy: 0.9167 - val_loss: 0.6017 - val_accuracy: 1.0000\n",
      "Epoch 9/50\n",
      "1/1 [==============================] - 0s 41ms/step - loss: 0.6041 - accuracy: 0.9167 - val_loss: 0.5907 - val_accuracy: 1.0000\n",
      "Epoch 10/50\n",
      "1/1 [==============================] - 0s 42ms/step - loss: 0.5961 - accuracy: 0.9167 - val_loss: 0.5794 - val_accuracy: 1.0000\n",
      "Epoch 11/50\n",
      "1/1 [==============================] - 0s 41ms/step - loss: 0.5658 - accuracy: 0.9167 - val_loss: 0.5683 - val_accuracy: 1.0000\n",
      "Epoch 12/50\n",
      "1/1 [==============================] - 0s 40ms/step - loss: 0.5517 - accuracy: 0.9167 - val_loss: 0.5573 - val_accuracy: 1.0000\n",
      "Epoch 13/50\n",
      "1/1 [==============================] - 0s 74ms/step - loss: 0.5297 - accuracy: 0.9167 - val_loss: 0.5463 - val_accuracy: 1.0000\n",
      "Epoch 14/50\n",
      "1/1 [==============================] - 0s 40ms/step - loss: 0.5310 - accuracy: 0.9167 - val_loss: 0.5351 - val_accuracy: 1.0000\n",
      "Epoch 15/50\n",
      "1/1 [==============================] - 0s 40ms/step - loss: 0.5097 - accuracy: 1.0000 - val_loss: 0.5240 - val_accuracy: 1.0000\n",
      "Epoch 16/50\n",
      "1/1 [==============================] - 0s 41ms/step - loss: 0.5188 - accuracy: 0.9167 - val_loss: 0.5128 - val_accuracy: 1.0000\n",
      "Epoch 17/50\n",
      "1/1 [==============================] - 0s 41ms/step - loss: 0.4791 - accuracy: 0.9167 - val_loss: 0.5015 - val_accuracy: 1.0000\n",
      "Epoch 18/50\n",
      "1/1 [==============================] - 0s 40ms/step - loss: 0.4987 - accuracy: 0.9167 - val_loss: 0.4901 - val_accuracy: 1.0000\n",
      "Epoch 19/50\n",
      "1/1 [==============================] - 0s 40ms/step - loss: 0.4468 - accuracy: 0.9167 - val_loss: 0.4783 - val_accuracy: 1.0000\n",
      "Epoch 20/50\n",
      "1/1 [==============================] - 0s 40ms/step - loss: 0.4248 - accuracy: 0.8333 - val_loss: 0.4665 - val_accuracy: 1.0000\n",
      "Epoch 21/50\n",
      "1/1 [==============================] - 0s 41ms/step - loss: 0.4307 - accuracy: 0.9167 - val_loss: 0.4546 - val_accuracy: 1.0000\n",
      "Epoch 22/50\n",
      "1/1 [==============================] - 0s 41ms/step - loss: 0.4150 - accuracy: 0.8333 - val_loss: 0.4426 - val_accuracy: 1.0000\n",
      "Epoch 23/50\n",
      "1/1 [==============================] - 0s 41ms/step - loss: 0.4104 - accuracy: 0.9167 - val_loss: 0.4305 - val_accuracy: 1.0000\n",
      "Epoch 24/50\n",
      "1/1 [==============================] - 0s 41ms/step - loss: 0.4150 - accuracy: 0.8333 - val_loss: 0.4183 - val_accuracy: 1.0000\n",
      "Epoch 25/50\n",
      "1/1 [==============================] - 0s 42ms/step - loss: 0.3859 - accuracy: 1.0000 - val_loss: 0.4062 - val_accuracy: 1.0000\n",
      "Epoch 26/50\n",
      "1/1 [==============================] - 0s 41ms/step - loss: 0.3790 - accuracy: 1.0000 - val_loss: 0.3941 - val_accuracy: 1.0000\n",
      "Epoch 27/50\n",
      "1/1 [==============================] - 0s 41ms/step - loss: 0.3484 - accuracy: 1.0000 - val_loss: 0.3822 - val_accuracy: 1.0000\n",
      "Epoch 28/50\n",
      "1/1 [==============================] - 0s 40ms/step - loss: 0.3664 - accuracy: 0.9167 - val_loss: 0.3703 - val_accuracy: 1.0000\n",
      "Epoch 29/50\n",
      "1/1 [==============================] - 0s 41ms/step - loss: 0.3176 - accuracy: 1.0000 - val_loss: 0.3584 - val_accuracy: 1.0000\n",
      "Epoch 30/50\n",
      "1/1 [==============================] - 0s 54ms/step - loss: 0.3262 - accuracy: 1.0000 - val_loss: 0.3466 - val_accuracy: 1.0000\n",
      "Epoch 31/50\n",
      "1/1 [==============================] - 0s 41ms/step - loss: 0.2888 - accuracy: 1.0000 - val_loss: 0.3346 - val_accuracy: 1.0000\n",
      "Epoch 32/50\n",
      "1/1 [==============================] - 0s 41ms/step - loss: 0.2937 - accuracy: 1.0000 - val_loss: 0.3227 - val_accuracy: 1.0000\n",
      "Epoch 33/50\n",
      "1/1 [==============================] - 0s 40ms/step - loss: 0.2840 - accuracy: 1.0000 - val_loss: 0.3109 - val_accuracy: 1.0000\n",
      "Epoch 34/50\n",
      "1/1 [==============================] - 0s 41ms/step - loss: 0.2926 - accuracy: 1.0000 - val_loss: 0.2994 - val_accuracy: 1.0000\n",
      "Epoch 35/50\n",
      "1/1 [==============================] - 0s 42ms/step - loss: 0.2598 - accuracy: 1.0000 - val_loss: 0.2881 - val_accuracy: 1.0000\n",
      "Epoch 36/50\n",
      "1/1 [==============================] - 0s 40ms/step - loss: 0.2471 - accuracy: 1.0000 - val_loss: 0.2771 - val_accuracy: 1.0000\n",
      "Epoch 37/50\n",
      "1/1 [==============================] - 0s 40ms/step - loss: 0.2758 - accuracy: 1.0000 - val_loss: 0.2663 - val_accuracy: 1.0000\n",
      "Epoch 38/50\n",
      "1/1 [==============================] - 0s 41ms/step - loss: 0.2625 - accuracy: 1.0000 - val_loss: 0.2556 - val_accuracy: 1.0000\n",
      "Epoch 39/50\n",
      "1/1 [==============================] - 0s 40ms/step - loss: 0.2190 - accuracy: 1.0000 - val_loss: 0.2452 - val_accuracy: 1.0000\n",
      "Epoch 40/50\n",
      "1/1 [==============================] - 0s 40ms/step - loss: 0.1904 - accuracy: 1.0000 - val_loss: 0.2351 - val_accuracy: 1.0000\n",
      "Epoch 41/50\n",
      "1/1 [==============================] - 0s 40ms/step - loss: 0.2175 - accuracy: 1.0000 - val_loss: 0.2253 - val_accuracy: 1.0000\n",
      "Epoch 42/50\n",
      "1/1 [==============================] - 0s 40ms/step - loss: 0.2123 - accuracy: 1.0000 - val_loss: 0.2157 - val_accuracy: 1.0000\n",
      "Epoch 43/50\n",
      "1/1 [==============================] - 0s 40ms/step - loss: 0.1803 - accuracy: 1.0000 - val_loss: 0.2065 - val_accuracy: 1.0000\n",
      "Epoch 44/50\n",
      "1/1 [==============================] - 0s 40ms/step - loss: 0.2034 - accuracy: 1.0000 - val_loss: 0.1975 - val_accuracy: 1.0000\n",
      "Epoch 45/50\n",
      "1/1 [==============================] - 0s 40ms/step - loss: 0.1766 - accuracy: 1.0000 - val_loss: 0.1890 - val_accuracy: 1.0000\n",
      "Epoch 46/50\n",
      "1/1 [==============================] - 0s 40ms/step - loss: 0.1642 - accuracy: 1.0000 - val_loss: 0.1809 - val_accuracy: 1.0000\n",
      "Epoch 47/50\n",
      "1/1 [==============================] - 0s 41ms/step - loss: 0.1677 - accuracy: 1.0000 - val_loss: 0.1730 - val_accuracy: 1.0000\n",
      "Epoch 48/50\n",
      "1/1 [==============================] - 0s 42ms/step - loss: 0.1610 - accuracy: 1.0000 - val_loss: 0.1655 - val_accuracy: 1.0000\n",
      "Epoch 49/50\n",
      "1/1 [==============================] - 0s 42ms/step - loss: 0.1521 - accuracy: 1.0000 - val_loss: 0.1583 - val_accuracy: 1.0000\n",
      "Epoch 50/50\n",
      "1/1 [==============================] - 0s 49ms/step - loss: 0.1600 - accuracy: 1.0000 - val_loss: 0.1513 - val_accuracy: 1.0000\n"
     ]
    }
   ],
   "source": [
    "history = model1.fit(x_scaler,y_train,epochs=50,validation_split=0.2)"
   ]
  },
  {
   "cell_type": "code",
   "execution_count": 57,
   "id": "165633ee-baac-4b27-8bb3-2da2e75693ba",
   "metadata": {},
   "outputs": [
    {
     "data": {
      "image/png": "[encoded data removed]",
      "text/plain": [
       "<Figure size 640x480 with 1 Axes>"
      ]
     },
     "metadata": {},
     "output_type": "display_data"
    }
   ],
   "source": [
    "plt.plot(history.history[\"accuracy\"],label=\"model\",color=\"r\")\n",
    "plt.plot(history1.history[\"accuracy\"],label=\"model1\",color=\"y\")\n",
    "plt.xlabel(\"epochs\")\n",
    "plt.ylabel(\"accuracy\")\n",
    "plt.legend()\n",
    "plt.title(\"comparision the accuracy\")\n",
    "plt.show()"
   ]
  },
  {
   "cell_type": "code",
   "execution_count": 59,
   "id": "84f1ab04-50a2-4e7a-89b3-cdd7f5b865b3",
   "metadata": {},
   "outputs": [
    {
     "data": {
      "image/png": "[encoded data removed]",
      "text/plain": [
       "<Figure size 640x480 with 1 Axes>"
      ]
     },
     "metadata": {},
     "output_type": "display_data"
    }
   ],
   "source": [
    "plt.plot(history.history[\"loss\"],label=\"model\",color=\"b\")\n",
    "plt.plot(history1.history[\"loss\"],label=\"model1\",color=\"y\")\n",
    "plt.xlabel(\"epochs\")\n",
    "plt.ylabel(\"loss\")\n",
    "plt.legend()\n",
    "plt.title(\"comparision the loss\")\n",
    "plt.show()"
   ]
  },
  {
   "cell_type": "code",
   "execution_count": null,
   "id": "7126713a-cfcf-4201-968d-8e8fe9c96ffe",
   "metadata": {},
   "outputs": [],
   "source": []
  },
  {
   "cell_type": "code",
   "execution_count": null,
   "id": "5ed35e95-a8d7-42bd-ab7c-b119187d22b2",
   "metadata": {},
   "outputs": [],
   "source": []
  }
 ],
 "metadata": {
  "kernelspec": {
   "display_name": "Python 3 (ipykernel)",
   "language": "python",
   "name": "python3"
  },
  "language_info": {
   "codemirror_mode": {
    "name": "ipython",
    "version": 3
   },
   "file_extension": ".py",
   "mimetype": "text/x-python",
   "name": "python",
   "nbconvert_exporter": "python",
   "pygments_lexer": "ipython3",
   "version": "3.10.8"
  }
 },
 "nbformat": 4,
 "nbformat_minor": 5
}
